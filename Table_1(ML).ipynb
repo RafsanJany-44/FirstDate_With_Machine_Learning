{
  "nbformat": 4,
  "nbformat_minor": 0,
  "metadata": {
    "colab": {
      "provenance": [],
      "authorship_tag": "ABX9TyMMglgXwTGdM4iOQzz5ZqZi",
      "include_colab_link": true
    },
    "kernelspec": {
      "name": "python3",
      "display_name": "Python 3"
    },
    "language_info": {
      "name": "python"
    }
  },
  "cells": [
    {
      "cell_type": "markdown",
      "metadata": {
        "id": "view-in-github",
        "colab_type": "text"
      },
      "source": [
        "<a href=\"https://colab.research.google.com/github/RafsanJany-44/FirstDate_With_Machine_Learning/blob/main/Table_1(ML).ipynb\" target=\"_parent\"><img src=\"https://colab.research.google.com/assets/colab-badge.svg\" alt=\"Open In Colab\"/></a>"
      ]
    },
    {
      "cell_type": "markdown",
      "source": [
        "#<font color = 'coral'>How Traditional Programming Works"
      ],
      "metadata": {
        "id": "nuHm_Wau8214"
      }
    },
    {
      "cell_type": "markdown",
      "source": [
        "Lets write a program to find <b>Celsius</b> to <b>Fahrenheit</b>.<br>\n",
        "<br>\n",
        "We know the equation is,<br>\n",
        "<br>\n",
        "F = °C x 1.8 + 32"
      ],
      "metadata": {
        "id": "Hp4RtJfb9N40"
      }
    },
    {
      "cell_type": "code",
      "source": [
        "\n",
        "def celTofar(cel):\n",
        "  far = 1.8*cel+32\n",
        "  return far\n"
      ],
      "metadata": {
        "id": "OMvy1Mji9MOv"
      },
      "execution_count": null,
      "outputs": []
    },
    {
      "cell_type": "code",
      "execution_count": null,
      "metadata": {
        "colab": {
          "base_uri": "https://localhost:8080/"
        },
        "id": "7AEdN70T8O33",
        "outputId": "55841eb8-34ff-4c91-fcb8-5432b1d48326"
      },
      "outputs": [
        {
          "output_type": "stream",
          "name": "stdout",
          "text": [
            "If temperature in Celsius : 25, then the Fahrenheit is:  77.0\n"
          ]
        }
      ],
      "source": [
        "print(\"If temperature in Celsius : 25, then the Fahrenheit is: \",celTofar(25))"
      ]
    },
    {
      "cell_type": "code",
      "source": [
        "cel_data = [200,90,45,255,130,35,45,29,277,56]\n",
        "far_data = []\n",
        "\n",
        "\n",
        "for i in cel_data:\n",
        "  far_data.append(celTofar(i))"
      ],
      "metadata": {
        "id": "P63WC1989j_M"
      },
      "execution_count": null,
      "outputs": []
    },
    {
      "cell_type": "code",
      "source": [
        "far_data"
      ],
      "metadata": {
        "colab": {
          "base_uri": "https://localhost:8080/"
        },
        "id": "IwyLL3J9FKp3",
        "outputId": "ed58771f-e0cc-42ed-b132-10891590fc3a"
      },
      "execution_count": null,
      "outputs": [
        {
          "output_type": "execute_result",
          "data": {
            "text/plain": [
              "[392.0, 194.0, 113.0, 491.0, 266.0, 95.0, 113.0, 84.2, 530.6, 132.8]"
            ]
          },
          "metadata": {},
          "execution_count": 10
        }
      ]
    }
  ]
}