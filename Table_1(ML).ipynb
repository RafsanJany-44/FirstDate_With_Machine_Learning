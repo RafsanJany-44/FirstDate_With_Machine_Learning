{
  "nbformat": 4,
  "nbformat_minor": 0,
  "metadata": {
    "colab": {
      "provenance": [],
      "authorship_tag": "ABX9TyMxhB7ZK0g8EEh127h8ldgW",
      "include_colab_link": true
    },
    "kernelspec": {
      "name": "python3",
      "display_name": "Python 3"
    },
    "language_info": {
      "name": "python"
    }
  },
  "cells": [
    {
      "cell_type": "markdown",
      "metadata": {
        "id": "view-in-github",
        "colab_type": "text"
      },
      "source": [
        "<a href=\"https://colab.research.google.com/github/RafsanJany-44/FirstDate_With_Machine_Learning/blob/main/Table_1(ML).ipynb\" target=\"_parent\"><img src=\"https://colab.research.google.com/assets/colab-badge.svg\" alt=\"Open In Colab\"/></a>"
      ]
    },
    {
      "cell_type": "markdown",
      "source": [
        "#<font color = 'coral'>How Traditional Programming Works"
      ],
      "metadata": {
        "id": "nuHm_Wau8214"
      }
    },
    {
      "cell_type": "markdown",
      "source": [
        "Lets write a program to find <b>Celsius</b> to <b>Fahrenheit</b>.<br>\n",
        "<br>\n",
        "We know the equation is,<br>\n",
        "<br>\n",
        "F = °C x 1.8 + 32"
      ],
      "metadata": {
        "id": "Hp4RtJfb9N40"
      }
    },
    {
      "cell_type": "code",
      "source": [
        "\n",
        "def celTofar(cel):\n",
        "  far = 1.8*cel+32\n",
        "  return far\n"
      ],
      "metadata": {
        "id": "OMvy1Mji9MOv"
      },
      "execution_count": 1,
      "outputs": []
    },
    {
      "cell_type": "code",
      "execution_count": 2,
      "metadata": {
        "colab": {
          "base_uri": "https://localhost:8080/"
        },
        "id": "7AEdN70T8O33",
        "outputId": "f6e2f595-871b-4739-a90d-4931cdf6f54a"
      },
      "outputs": [
        {
          "output_type": "stream",
          "name": "stdout",
          "text": [
            "If temperature in Celsius : 25, then the Fahrenheit is:  77.0\n"
          ]
        }
      ],
      "source": [
        "print(\"If temperature in Celsius : 25, then the Fahrenheit is: \",celTofar(25))"
      ]
    },
    {
      "cell_type": "code",
      "source": [],
      "metadata": {
        "id": "P63WC1989j_M"
      },
      "execution_count": null,
      "outputs": []
    }
  ]
}