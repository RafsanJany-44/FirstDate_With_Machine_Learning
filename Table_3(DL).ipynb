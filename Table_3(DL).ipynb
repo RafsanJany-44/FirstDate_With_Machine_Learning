{
  "nbformat": 4,
  "nbformat_minor": 0,
  "metadata": {
    "colab": {
      "provenance": [],
      "include_colab_link": true
    },
    "kernelspec": {
      "name": "python3",
      "display_name": "Python 3"
    },
    "language_info": {
      "name": "python"
    }
  },
  "cells": [
    {
      "cell_type": "markdown",
      "metadata": {
        "id": "view-in-github",
        "colab_type": "text"
      },
      "source": [
        "<a href=\"https://colab.research.google.com/github/RafsanJany-44/FirstDate_With_Machine_Learning/blob/main/Table_3(DL).ipynb\" target=\"_parent\"><img src=\"https://colab.research.google.com/assets/colab-badge.svg\" alt=\"Open In Colab\"/></a>"
      ]
    },
    {
      "cell_type": "markdown",
      "source": [
        "#<font color='coral'>How Deep Learning Works</font>"
      ],
      "metadata": {
        "id": "2rrrTW-jgdvt"
      }
    },
    {
      "cell_type": "markdown",
      "source": [
        "|Celsius|Fahrenheit|\n",
        "|---|---|\n",
        "|90|194\\.0|\n",
        "|45|113\\.0|\n",
        "|-25|-13\\.0|\n",
        "|130|266\\.0|\n",
        "|35|95\\.0|\n",
        "|29|84\\.2|\n",
        "|-30|-22\\.0|\n",
        "|27|80\\.6|\n",
        "|56|132\\.8|\n",
        "|3|37\\.4|\n",
        "|212|413\\.6|\n",
        "|121|249\\.8|\n",
        "|180|356\\.0|\n",
        "|-40|-40\\.0|"
      ],
      "metadata": {
        "id": "TVrDuu5OgZS3"
      }
    },
    {
      "cell_type": "code",
      "source": [
        "cel_data = [90,45,-25,130,35,29,-30,27,56,3,212,121,180,-40,-35]"
      ],
      "metadata": {
        "id": "ULXqH0QTgYjA"
      },
      "execution_count": 1,
      "outputs": []
    },
    {
      "cell_type": "code",
      "source": [
        "far_data = [194.0, 113.0, -13.0, 266.0, 95.0, 84.2, -22.0, 80.6, 132.8, 37.4, 413.6, 249.8, 356.0, -40.0, -31.0]"
      ],
      "metadata": {
        "id": "q5CA_wGcgo6k"
      },
      "execution_count": 2,
      "outputs": []
    },
    {
      "cell_type": "code",
      "source": [
        "import numpy as np"
      ],
      "metadata": {
        "id": "d-DXkpKqdJtW"
      },
      "execution_count": 3,
      "outputs": []
    },
    {
      "cell_type": "markdown",
      "source": [
        "Make Numpy Dataset"
      ],
      "metadata": {
        "id": "jcidD_hGNfyy"
      }
    },
    {
      "cell_type": "code",
      "source": [
        "celsius_in = np.array(cel_data,  dtype=float)\n",
        "fahrenheit_out = np.array(far_data,  dtype=float)"
      ],
      "metadata": {
        "id": "no-HTR1cYNK4"
      },
      "execution_count": 4,
      "outputs": []
    },
    {
      "cell_type": "markdown",
      "source": [
        "## Create the model"
      ],
      "metadata": {
        "id": "lhJ5zOZhgCqu"
      }
    },
    {
      "cell_type": "code",
      "source": [
        "import tensorflow as tf"
      ],
      "metadata": {
        "id": "Vvb82gL6g9wu"
      },
      "execution_count": 5,
      "outputs": []
    },
    {
      "cell_type": "markdown",
      "source": [
        "### Build a layer"
      ],
      "metadata": {
        "id": "A4wmxxGTgX3f"
      }
    },
    {
      "cell_type": "markdown",
      "source": [
        "We'll call the layer <font color=\"coral\">`l0`</font> and create it by instantiating <font color=\"coral\">`tf.keras.layers.Dense`</font> with the following configuration:\n",
        "\n",
        "*   <font color=\"coral\">`input_shape=[1]`</font> — This specifies that the input to this layer is a single value. That is, the shape is a one-dimensional array with one member. The single value is a floating point number, representing degrees Celsius.\n",
        "\n",
        "*    <font color=\"coral\">`units=1`</font> — This specifies the number of neurons in the layer. The number of neurons defines how many internal variables the layer has to try to learn how to solve the problem . Since this is the final layer, it is also the size of the model's output — a single float value representing degrees Fahrenheit. (In a multi-layered network, the size and shape of the layer would need to match the <font color=\"coral\">`input_shape`</font> of the next layer.)"
      ],
      "metadata": {
        "id": "13MI7XybHW2x"
      }
    },
    {
      "cell_type": "code",
      "source": [
        "l0 = tf.keras.layers.Dense(units=1, input_shape=[1])"
      ],
      "metadata": {
        "id": "AjbjSebwcgQZ"
      },
      "execution_count": 6,
      "outputs": []
    },
    {
      "cell_type": "markdown",
      "source": [
        "### Assemble layers into the model\n",
        "\n",
        "\n",
        "Once layers are defined, they need to be assembled into a model. The Sequential model definition takes a list of layers as an argument, specifying the calculation order from the input to the output.\n",
        "\n",
        "This model has just a single layer, l0."
      ],
      "metadata": {
        "id": "cahRNMY4ghNd"
      }
    },
    {
      "cell_type": "code",
      "source": [
        "model = tf.keras.Sequential([l0])\n",
        "\n",
        "#model = tf.keras.Sequential(\n",
        "#    tf.keras.layers.Dense(units=1, input_shape=[1])\n",
        "#)\"\"\""
      ],
      "metadata": {
        "id": "p3L4Cws-gPh2"
      },
      "execution_count": 7,
      "outputs": []
    },
    {
      "cell_type": "markdown",
      "source": [
        "## Compile the model, with loss and optimizer functions\n",
        "\n",
        "Before training, the model has to be compiled. When compiled for training, the model is given:\n",
        "\n",
        "- **Loss function** — A way of measuring how far off predictions are from the desired outcome. (The measured difference is called the \"loss\".)\n",
        "\n",
        "- **Optimizer function** — A way of adjusting internal values in order to reduce the loss.\n"
      ],
      "metadata": {
        "id": "Ss1eyYVehJku"
      }
    },
    {
      "cell_type": "code",
      "source": [
        "model.compile(loss='mean_squared_error',\n",
        "              optimizer=tf.keras.optimizers.Adam(0.1))"
      ],
      "metadata": {
        "id": "NtmBPoWMgR9f"
      },
      "execution_count": 8,
      "outputs": []
    },
    {
      "cell_type": "markdown",
      "source": [
        "These are used during training (`model.fit()`, below) to first calculate the loss at each point, and then improve it. In fact, the act of calculating the current loss of a model and then improving it is precisely what training is.\n",
        "\n",
        "During training, the optimizer function is used to calculate adjustments to the model's internal variables. The goal is to adjust the internal variables until the model (which is really a math function) mirrors the actual equation for converting Celsius to Fahrenheit.\n",
        "\n",
        "TensorFlow uses numerical analysis to perform this tuning, and all this complexity is hidden from you so we will not go into the details here. What is useful to know about these parameters are:\n",
        "\n",
        "The loss function ([mean squared error](https://en.wikipedia.org/wiki/Mean_squared_error)) and the optimizer ([Adam](https://machinelearningmastery.com/adam-optimization-algorithm-for-deep-learning/)) used here are standard for simple models like this one, but many others are available. It is not important to know how these specific functions work at this point.\n",
        "\n",
        "One part of the Optimizer you may need to think about when building your own models is the learning rate (`0.1` in the code above). This is the step size taken when adjusting values in the model. If the value is too small, it will take too many iterations to train the model. Too large, and accuracy goes down. Finding a good value often involves some trial and error, but the range is usually within 0.001 (default), and 0.1"
      ],
      "metadata": {
        "id": "zZsdllvlLOMc"
      }
    },
    {
      "cell_type": "markdown",
      "source": [
        "## Train the model\n",
        "\n",
        "Train the model by calling the `fit` method.\n",
        "\n",
        "During training, the model takes in Celsius values, performs a calculation using the current internal variables (called \"weights\") and outputs values which are meant to be the Fahrenheit equivalent. Since the weights are initially set randomly, the output will not be close to the correct value. The difference between the actual output and the desired output is calculated using the loss function, and the optimizer function directs how the weights should be adjusted.\n",
        "\n",
        "This cycle of calculate, compare, adjust is controlled by the `fit` method. The first argument is the inputs, the second argument is the desired outputs. The `epochs` argument specifies how many times this cycle should be run, and the `verbose` argument controls how much output the method produces."
      ],
      "metadata": {
        "id": "jb7I1y9nhPpl"
      }
    },
    {
      "cell_type": "code",
      "source": [
        "%%time\n",
        "history = model.fit(celsius_in, fahrenheit_out, epochs=500, verbose=False)\n",
        "print(\"Finished training the model\")"
      ],
      "metadata": {
        "colab": {
          "base_uri": "https://localhost:8080/"
        },
        "id": "_zGdZ4BFhTcF",
        "outputId": "5ab4a02e-0a74-4fcb-de32-7ef06b04ba79"
      },
      "execution_count": 9,
      "outputs": [
        {
          "output_type": "stream",
          "name": "stdout",
          "text": [
            "Finished training the model\n",
            "CPU times: user 2.01 s, sys: 79.5 ms, total: 2.09 s\n",
            "Wall time: 3.22 s\n"
          ]
        }
      ]
    },
    {
      "cell_type": "markdown",
      "source": [
        "## Display training statistics\n",
        "\n",
        "The `fit` method returns a history object. We can use this object to plot how the loss of our model goes down after each training epoch. A high loss means that the Fahrenheit degrees the model predicts is far from the corresponding value in `fahrenheit_a`.\n",
        "\n",
        "We'll use [Matplotlib](https://matplotlib.org/) to visualize this (you could use another tool). As you can see, our model improves very quickly at first, and then has a steady, slow improvement until it is very near \"perfect\" towards the end.\n"
      ],
      "metadata": {
        "id": "j4qBeuIfLiWe"
      }
    },
    {
      "cell_type": "code",
      "source": [
        "import matplotlib.pyplot as plt\n",
        "plt.xlabel('Epoch Number')\n",
        "plt.ylabel(\"Loss Magnitude\")\n",
        "plt.plot(history.history['loss'])"
      ],
      "metadata": {
        "id": "DHq-PeICLh3v",
        "outputId": "6f34f820-e749-407b-efbf-7fe689bfc371",
        "colab": {
          "base_uri": "https://localhost:8080/",
          "height": 471
        }
      },
      "execution_count": 10,
      "outputs": [
        {
          "output_type": "execute_result",
          "data": {
            "text/plain": [
              "[<matplotlib.lines.Line2D at 0x7f82402c0460>]"
            ]
          },
          "metadata": {},
          "execution_count": 10
        },
        {
          "output_type": "display_data",
          "data": {
            "text/plain": [
              "<Figure size 640x480 with 1 Axes>"
            ],
            "image/png": "[encoded data removed]"
          },
          "metadata": {}
        }
      ]
    },
    {
      "cell_type": "markdown",
      "source": [
        "## Use the model to predict values"
      ],
      "metadata": {
        "id": "FGgi_j9Nhs02"
      }
    },
    {
      "cell_type": "code",
      "source": [
        "print(model.predict([100.0]))"
      ],
      "metadata": {
        "colab": {
          "base_uri": "https://localhost:8080/"
        },
        "id": "9KKVSzLOhUIW",
        "outputId": "f507932b-1913-43bc-ac84-da424d7f1265"
      },
      "execution_count": 11,
      "outputs": [
        {
          "output_type": "stream",
          "name": "stdout",
          "text": [
            "1/1 [==============================] - 0s 110ms/step\n",
            "[[207.00394]]\n"
          ]
        }
      ]
    },
    {
      "cell_type": "markdown",
      "source": [
        "#Actual Value"
      ],
      "metadata": {
        "id": "MkRkg5sxvhL0"
      }
    },
    {
      "cell_type": "code",
      "source": [
        "1.8*100.0+32"
      ],
      "metadata": {
        "colab": {
          "base_uri": "https://localhost:8080/"
        },
        "id": "wRiw9nF6vads",
        "outputId": "d3fcef68-2afc-4fd6-e72d-af307f38715c"
      },
      "execution_count": 13,
      "outputs": [
        {
          "output_type": "execute_result",
          "data": {
            "text/plain": [
              "212.0"
            ]
          },
          "metadata": {},
          "execution_count": 13
        }
      ]
    },
    {
      "cell_type": "markdown",
      "source": [
        "## Looking at the layer weights and bias"
      ],
      "metadata": {
        "id": "Ra_QC_jYiBm9"
      }
    },
    {
      "cell_type": "code",
      "source": [
        "print(\"These are the layer variables, weight:\",l0.get_weights()[0],\", bias:\",l0.get_weights()[1])"
      ],
      "metadata": {
        "colab": {
          "base_uri": "https://localhost:8080/"
        },
        "id": "JKxICC43iCc2",
        "outputId": "ad9a6509-a9e9-4847-a7f2-2a8678fef480"
      },
      "execution_count": 14,
      "outputs": [
        {
          "output_type": "stream",
          "name": "stdout",
          "text": [
            "These are the layer variables, weight: [[1.8825138]] , bias: [18.752571]\n"
          ]
        }
      ]
    },
    {
      "cell_type": "markdown",
      "source": [
        "\n",
        "\n",
        "---\n",
        "\n",
        "---\n",
        "\n",
        "\n",
        "\n"
      ],
      "metadata": {
        "id": "5hzLraxJOzHR"
      }
    },
    {
      "cell_type": "markdown",
      "source": [
        "#Lets Try with Learger Dataset"
      ],
      "metadata": {
        "id": "V3XM1F42hi38"
      }
    },
    {
      "cell_type": "markdown",
      "source": [
        "|index|Celsius|Fahrenheit|\n",
        "|---|---|---|\n",
        "|0|61\\.4|142\\.52|\n",
        "|1|12\\.74|54\\.93|\n",
        "|2|8\\.24|46\\.83|\n",
        "|3|69\\.0|156\\.2|\n",
        "|4|-2\\.87|26\\.83|\n",
        "|5|27\\.3|81\\.14|\n",
        "|6|54\\.38|129\\.88|\n",
        "|7|-4\\.75|23\\.45|\n",
        "|8|27\\.43|81\\.37|\n",
        "|9|6\\.71|44\\.08|\n",
        "|10|69\\.31|156\\.76|\n",
        "|11|40\\.08|104\\.14|\n",
        "|12|35\\.38|95\\.68|\n",
        "|13|74\\.81|166\\.66|\n",
        "|14|-0\\.19|31\\.66|\n",
        "|15|15\\.12|59\\.22|\n",
        "|16|21\\.22|70\\.2|\n",
        "|17|61\\.44|142\\.59|\n",
        "|18|27\\.59|81\\.66|\n",
        "|19|64\\.06|147\\.31|\n",
        "|20|-2\\.73|27\\.09|\n",
        "|21|13\\.14|55\\.65|\n",
        "|22|42\\.21|107\\.98|\n",
        "|23|-7\\.26|18\\.93|\n",
        "|24|57\\.68|135\\.82|\n",
        "|25|9\\.74|49\\.53|\n",
        "|26|-10\\.41|13\\.26|\n",
        "|27|39\\.63|103\\.33|\n",
        "|28|12\\.39|54\\.3|\n",
        "|29|73\\.34|164\\.01|\n",
        "|30|65\\.89|150\\.6|\n",
        "|31|-3\\.41|25\\.86|\n",
        "|32|15\\.33|59\\.59|\n",
        "|33|51\\.94|125\\.49|\n",
        "|34|2\\.43|36\\.37|\n",
        "|35|-0\\.28|31\\.5|\n",
        "|36|58\\.77|137\\.79|\n",
        "|37|-6\\.94|19\\.51|\n",
        "|38|73\\.87|164\\.97|\n",
        "|39|69\\.36|156\\.85|\n",
        "|40|40\\.72|105\\.3|\n",
        "|41|25\\.18|77\\.32|\n",
        "|42|-0\\.67|30\\.79|\n",
        "|43|62\\.13|143\\.83|\n",
        "|44|63\\.21|145\\.78|\n",
        "|45|24\\.34|75\\.81|\n",
        "|46|33\\.32|91\\.98|\n",
        "|47|53\\.82|128\\.88|\n",
        "|48|70\\.14|158\\.25|\n",
        "|49|15\\.6|60\\.08|\n",
        "|50|62\\.31|144\\.16|\n",
        "|51|20\\.44|68\\.79|\n",
        "|52|0\\.76|33\\.37|\n",
        "|53|62\\.33|144\\.19|\n",
        "|54|4\\.32|39\\.78|\n",
        "|55|67\\.87|154\\.17|\n",
        "|56|-8\\.06|17\\.49|\n",
        "|57|65\\.27|149\\.49|\n",
        "|58|46\\.3|115\\.34|\n",
        "|59|-2\\.61|27\\.3|\n",
        "|60|25\\.53|77\\.95|\n",
        "|61|50\\.99|123\\.78|\n",
        "|62|46\\.53|115\\.75|\n",
        "|63|4\\.66|40\\.39|\n",
        "|64|11\\.31|52\\.36|\n",
        "|65|65\\.58|150\\.04|\n",
        "|66|-4\\.28|24\\.3|\n",
        "|67|42\\.48|108\\.46|\n",
        "|68|-6\\.55|20\\.21|\n",
        "|69|-10\\.24|13\\.57|\n",
        "|70|16\\.11|61\\.0|\n",
        "|71|27\\.17|80\\.91|\n",
        "|72|48\\.74|119\\.73|\n",
        "|73|-10\\.25|13\\.55|\n",
        "|74|14\\.28|57\\.7|\n",
        "|75|-9\\.52|14\\.86|\n",
        "|76|50\\.62|123\\.12|\n",
        "|77|27\\.42|81\\.36|\n",
        "|78|11\\.28|52\\.3|\n",
        "|79|69\\.42|156\\.96|\n",
        "|80|66\\.82|152\\.28|\n",
        "|81|39\\.57|103\\.23|\n",
        "|82|70\\.24|158\\.43|\n",
        "|83|48\\.26|118\\.87|\n",
        "|84|18\\.43|65\\.17|\n",
        "|85|8\\.62|47\\.52|\n",
        "|86|43\\.5|110\\.3|\n",
        "|87|59\\.9|139\\.82|\n",
        "|88|36\\.49|97\\.68|\n",
        "|89|55\\.96|132\\.73|\n",
        "|90|73\\.29|163\\.92|\n",
        "|91|24\\.53|76\\.15|\n",
        "|92|2\\.91|37\\.24|\n",
        "|93|34\\.06|93\\.31|\n",
        "|94|12\\.27|54\\.09|\n",
        "|95|15\\.36|59\\.65|\n",
        "|96|45\\.27|113\\.49|\n",
        "|97|32\\.88|91\\.18|\n",
        "|98|58\\.56|137\\.41|\n",
        "|99|56\\.05|132\\.89|\n",
        "|100|37\\.76|99\\.97|\n",
        "|101|65\\.54|149\\.97|\n",
        "|102|59\\.09|138\\.36|\n",
        "|103|64\\.41|147\\.94|\n",
        "|104|46\\.08|114\\.94|\n",
        "|105|9\\.6|49\\.28|\n",
        "|106|48\\.33|118\\.99|\n",
        "|107|15\\.76|60\\.37|\n",
        "|108|65\\.71|150\\.28|\n",
        "|109|-9\\.83|14\\.31|\n",
        "|110|27\\.01|80\\.62|\n",
        "|111|-4\\.45|23\\.99|\n",
        "|112|48\\.18|118\\.72|\n",
        "|113|32\\.33|90\\.19|\n",
        "|114|19\\.79|67\\.62|\n",
        "|115|-6\\.99|19\\.42|\n",
        "|116|63\\.82|146\\.88|\n",
        "|117|42\\.69|108\\.84|\n",
        "|118|57\\.46|135\\.43|\n",
        "|119|64\\.16|147\\.49|\n",
        "|120|19\\.57|67\\.23|\n",
        "|121|41\\.95|107\\.51|\n",
        "|122|8\\.95|48\\.11|\n",
        "|123|61\\.68|143\\.02|\n",
        "|124|9\\.38|48\\.88|\n",
        "|125|2\\.13|35\\.83|\n",
        "|126|-8\\.38|16\\.92|\n",
        "|127|45\\.21|113\\.38|\n",
        "|128|29\\.13|84\\.43|\n",
        "|129|31\\.54|88\\.77|\n",
        "|130|35\\.99|96\\.78|\n",
        "|131|1\\.86|35\\.35|\n",
        "|132|-8\\.5|16\\.7|\n",
        "|133|-5\\.52|22\\.06|\n",
        "|134|31\\.1|87\\.98|\n",
        "|135|-0\\.11|31\\.8|\n",
        "|136|-3\\.12|26\\.38|\n",
        "|137|23\\.93|75\\.07|\n",
        "|138|35\\.56|96\\.01|\n",
        "|139|11\\.63|52\\.93|\n",
        "|140|27\\.52|81\\.54|\n",
        "|141|45\\.66|114\\.19|\n",
        "|142|-5\\.22|22\\.6|\n",
        "|143|-4\\.34|24\\.19|\n",
        "|144|64\\.24|147\\.63|\n",
        "|145|14\\.44|57\\.99|\n",
        "|146|38\\.19|100\\.74|\n",
        "|147|59\\.51|139\\.12|\n",
        "|148|-5\\.42|22\\.24|\n",
        "|149|30\\.25|86\\.45|\n",
        "|150|62\\.97|145\\.35|\n",
        "|151|58\\.33|136\\.99|\n",
        "|152|16\\.53|61\\.75|\n",
        "|153|56\\.64|133\\.95|\n",
        "|154|11\\.03|51\\.85|\n",
        "|155|31\\.09|87\\.96|\n",
        "|156|33\\.37|92\\.07|\n",
        "|157|51\\.59|124\\.86|\n",
        "|158|33\\.65|92\\.57|\n",
        "|159|69\\.07|156\\.33|\n",
        "|160|61\\.67|143\\.01|\n",
        "|161|41\\.7|107\\.06|\n",
        "|162|51\\.5|124\\.7|\n",
        "|163|43\\.74|110\\.73|\n",
        "|164|-5\\.92|21\\.34|\n",
        "|165|-9\\.97|14\\.05|\n",
        "|166|10\\.05|50\\.09|\n",
        "|167|-0\\.04|31\\.93|\n",
        "|168|73\\.17|163\\.71|\n",
        "|169|6\\.95|44\\.51|\n",
        "|170|53\\.11|127\\.6|\n",
        "|171|2\\.97|37\\.35|\n",
        "|172|58\\.97|138\\.15|\n",
        "|173|-9\\.57|14\\.77|\n",
        "|174|8\\.1|46\\.58|\n",
        "|175|39\\.35|102\\.83|\n",
        "|176|-1\\.87|28\\.63|\n",
        "|177|20\\.19|68\\.34|\n",
        "|178|43\\.4|110\\.12|\n",
        "|179|36\\.39|97\\.5|\n",
        "|180|51\\.4|124\\.52|\n",
        "|181|70\\.28|158\\.5|\n",
        "|182|-9\\.51|14\\.88|\n",
        "|183|24\\.8|76\\.64|\n",
        "|184|46\\.06|114\\.91|\n",
        "|185|46\\.7|116\\.06|\n",
        "|186|32\\.62|90\\.72|\n",
        "|187|34\\.45|94\\.01|\n",
        "|188|62\\.6|144\\.68|\n",
        "|189|62\\.96|145\\.33|\n",
        "|190|50\\.69|123\\.24|\n",
        "|191|66\\.35|151\\.43|\n",
        "|192|59\\.4|138\\.92|\n",
        "|193|70\\.48|158\\.86|\n",
        "|194|-9\\.45|14\\.99|\n",
        "|195|57\\.2|134\\.96|\n",
        "|196|18\\.3|64\\.94|\n",
        "|197|46\\.94|116\\.49|\n",
        "|198|15\\.35|59\\.63|\n",
        "|199|55\\.52|131\\.94|\n",
        "|200|73\\.93|165\\.07|\n",
        "|201|55\\.58|132\\.04|\n",
        "|202|55\\.14|131\\.25|\n",
        "|203|34\\.52|94\\.14|\n",
        "|204|31\\.95|89\\.51|\n",
        "|205|-9\\.05|15\\.71|\n",
        "|206|60\\.29|140\\.52|\n",
        "|207|47\\.47|117\\.45|\n",
        "|208|54\\.1|129\\.38|\n",
        "|209|69\\.01|156\\.22|\n",
        "|210|1\\.16|34\\.09|\n",
        "|211|53\\.94|129\\.09|\n",
        "|212|46\\.62|115\\.92|\n",
        "|213|49\\.78|121\\.6|\n",
        "|214|43\\.86|110\\.95|\n",
        "|215|55\\.93|132\\.67|\n",
        "|216|8\\.27|46\\.89|\n",
        "|217|18\\.89|66\\.0|\n",
        "|218|6\\.75|44\\.15|\n",
        "|219|52\\.77|126\\.99|\n",
        "|220|17\\.79|64\\.02|\n",
        "|221|8\\.06|46\\.51|\n",
        "|222|56\\.17|133\\.11|\n",
        "|223|5\\.94|42\\.69|\n",
        "|224|34\\.71|94\\.48|\n",
        "|225|59\\.07|138\\.33|\n",
        "|226|62\\.79|145\\.02|\n",
        "|227|67\\.15|152\\.87|\n",
        "|228|15\\.17|59\\.31|\n",
        "|229|-2\\.01|28\\.38|\n",
        "|230|3\\.04|37\\.47|\n",
        "|231|-3\\.96|24\\.87|\n",
        "|232|46\\.88|116\\.38|\n",
        "|233|3\\.08|37\\.54|\n",
        "|234|16\\.79|62\\.22|\n",
        "|235|32\\.96|91\\.33|\n",
        "|236|35\\.48|95\\.86|\n",
        "|237|67\\.53|153\\.55|\n",
        "|238|8\\.13|46\\.63|\n",
        "|239|62\\.48|144\\.46|\n",
        "|240|8\\.13|46\\.63|\n",
        "|241|42\\.07|107\\.73|\n",
        "|242|19\\.45|67\\.01|\n",
        "|243|58\\.05|136\\.49|\n",
        "|244|62\\.19|143\\.94|\n",
        "|245|8\\.03|46\\.45|\n",
        "|246|62\\.16|143\\.89|\n",
        "|247|73\\.23|163\\.81|\n",
        "|248|48\\.1|118\\.58|\n",
        "|249|24\\.81|76\\.66|\n",
        "|250|6\\.98|44\\.56|\n",
        "|251|-10\\.28|13\\.5|\n",
        "|252|60\\.72|141\\.3|\n",
        "|253|3\\.18|37\\.72|\n",
        "|254|10\\.71|51\\.28|\n",
        "|255|-2\\.06|28\\.29|\n",
        "|256|4\\.39|39\\.9|\n",
        "|257|10\\.5|50\\.9|\n",
        "|258|26\\.72|80\\.1|\n",
        "|259|-8\\.81|16\\.14|\n",
        "|260|41\\.99|107\\.58|\n",
        "|261|39\\.8|103\\.64|\n",
        "|262|62\\.24|144\\.03|\n",
        "|263|2\\.3|36\\.14|\n",
        "|264|23\\.39|74\\.1|\n",
        "|265|41\\.01|105\\.82|\n",
        "|266|44\\.79|112\\.62|\n",
        "|267|56\\.8|134\\.24|\n",
        "|268|-6\\.61|20\\.1|\n",
        "|269|30\\.82|87\\.48|\n",
        "|270|25\\.27|77\\.49|\n",
        "|271|37\\.75|99\\.95|\n",
        "|272|15\\.37|59\\.67|\n",
        "|273|16\\.01|60\\.82|\n",
        "|274|-0\\.08|31\\.86|\n",
        "|275|52\\.83|127\\.09|\n",
        "|276|73\\.65|164\\.57|\n",
        "|277|53\\.03|127\\.45|\n",
        "|278|1\\.05|33\\.89|\n",
        "|279|56\\.95|134\\.51|\n",
        "|280|39\\.81|103\\.66|\n",
        "|281|1\\.17|34\\.11|\n",
        "|282|25\\.03|77\\.05|\n",
        "|283|-0\\.84|30\\.49|\n",
        "|284|55\\.0|131\\.0|\n",
        "|285|-8\\.79|16\\.18|\n",
        "|286|45\\.22|113\\.4|\n",
        "|287|17\\.77|63\\.99|\n",
        "|288|74\\.76|166\\.57|\n",
        "|289|10\\.84|51\\.51|\n",
        "|290|13\\.77|56\\.79|\n",
        "|291|-7\\.14|19\\.15|\n",
        "|292|68\\.94|156\\.09|\n",
        "|293|5\\.42|41\\.76|\n",
        "|294|68\\.89|156\\.0|\n",
        "|295|73\\.21|163\\.78|\n",
        "|296|69\\.86|157\\.75|\n",
        "|297|33\\.74|92\\.73|\n",
        "|298|6\\.27|43\\.29|\n",
        "|299|14\\.44|57\\.99|\n",
        "|300|61\\.22|142\\.2|\n",
        "|301|42\\.94|109\\.29|\n",
        "|302|32\\.83|91\\.09|\n",
        "|303|56\\.13|133\\.03|\n",
        "|304|-6\\.11|21\\.0|\n",
        "|305|27\\.43|81\\.37|\n",
        "|306|-4\\.93|23\\.13|\n",
        "|307|66\\.8|152\\.24|\n",
        "|308|13\\.9|57\\.02|\n",
        "|309|32\\.39|90\\.3|\n",
        "|310|14\\.64|58\\.35|\n",
        "|311|0\\.66|33\\.19|\n",
        "|312|11\\.09|51\\.96|\n",
        "|313|5\\.92|42\\.66|\n",
        "|314|37\\.86|100\\.15|\n",
        "|315|37\\.42|99\\.36|\n",
        "|316|73\\.31|163\\.96|\n",
        "|317|20\\.43|68\\.77|\n",
        "|318|74\\.53|166\\.15|\n",
        "|319|64\\.06|147\\.31|\n",
        "|320|66\\.76|152\\.17|\n",
        "|321|-10\\.08|13\\.86|\n",
        "|322|8\\.61|47\\.5|\n",
        "|323|11\\.48|52\\.66|\n",
        "|324|3\\.44|38\\.19|\n",
        "|325|46\\.3|115\\.34|\n",
        "|326|48\\.73|119\\.71|\n",
        "|327|27\\.05|80\\.69|\n",
        "|328|21\\.29|70\\.32|\n",
        "|329|67\\.42|153\\.36|\n",
        "|330|35\\.17|95\\.31|\n",
        "|331|15\\.95|60\\.71|\n",
        "|332|57\\.01|134\\.62|\n",
        "|333|-3\\.83|25\\.11|\n",
        "|334|12\\.82|55\\.08|\n",
        "|335|42\\.02|107\\.64|\n",
        "|336|5\\.18|41\\.32|\n",
        "|337|56\\.71|134\\.08|\n",
        "|338|21\\.44|70\\.59|\n",
        "|339|36\\.36|97\\.45|\n",
        "|340|7\\.49|45\\.48|\n",
        "|341|64\\.12|147\\.42|\n",
        "|342|16\\.86|62\\.35|\n",
        "|343|-7\\.46|18\\.57|\n",
        "|344|18\\.38|65\\.08|\n",
        "|345|37\\.33|99\\.19|\n",
        "|346|19\\.86|67\\.75|\n",
        "|347|39\\.78|103\\.6|\n",
        "|348|51\\.54|124\\.77|\n",
        "|349|57\\.95|136\\.31|\n",
        "|350|12\\.77|54\\.99|\n",
        "|351|5\\.01|41\\.02|\n",
        "|352|46\\.49|115\\.68|\n",
        "|353|-2\\.77|27\\.01|\n",
        "|354|38\\.05|100\\.49|\n",
        "|355|33\\.18|91\\.72|\n",
        "|356|48\\.07|118\\.53|\n",
        "|357|69\\.19|156\\.54|\n",
        "|358|38\\.39|101\\.1|\n",
        "|359|-5\\.98|21\\.24|\n",
        "|360|30\\.94|87\\.69|\n",
        "|361|43\\.04|109\\.47|\n",
        "|362|56\\.18|133\\.12|\n",
        "|363|43\\.55|110\\.39|\n",
        "|364|72\\.96|163\\.33|\n",
        "|365|25\\.75|78\\.35|\n",
        "|366|-10\\.2|13\\.64|\n",
        "|367|17\\.22|63\\.0|\n",
        "|368|61\\.13|142\\.03|\n",
        "|369|74\\.54|166\\.17|\n",
        "|370|48\\.85|119\\.93|\n",
        "|371|30\\.0|86\\.0|\n",
        "|372|44\\.73|112\\.51|\n",
        "|373|69\\.42|156\\.96|\n",
        "|374|-4\\.13|24\\.57|\n",
        "|375|47\\.45|117\\.41|\n",
        "|376|14\\.14|57\\.45|\n",
        "|377|56\\.04|132\\.87|\n",
        "|378|11\\.04|51\\.87|\n",
        "|379|33\\.48|92\\.26|\n",
        "|380|9\\.03|48\\.25|\n",
        "|381|-4\\.9|23\\.18|\n",
        "|382|43\\.32|109\\.98|\n",
        "|383|56\\.55|133\\.79|\n",
        "|384|-4\\.38|24\\.12|\n",
        "|385|27\\.98|82\\.36|\n",
        "|386|-0\\.49|31\\.12|\n",
        "|387|-10\\.32|13\\.42|\n",
        "|388|-4\\.85|23\\.27|\n",
        "|389|74\\.07|165\\.33|\n",
        "|390|61\\.14|142\\.05|\n",
        "|391|70\\.16|158\\.29|\n",
        "|392|47\\.46|117\\.43|\n",
        "|393|9\\.91|49\\.84|\n",
        "|394|34\\.52|94\\.14|\n",
        "|395|25\\.17|77\\.31|\n",
        "|396|12\\.51|54\\.52|\n",
        "|397|41\\.55|106\\.79|\n",
        "|398|1\\.05|33\\.89|\n",
        "|399|49\\.54|121\\.17|\n",
        "|400|-7\\.67|18\\.19|\n",
        "|401|62\\.46|144\\.43|\n",
        "|402|63\\.81|146\\.86|\n",
        "|403|52\\.37|126\\.27|\n",
        "|404|48\\.98|120\\.16|\n",
        "|405|45\\.96|114\\.73|\n",
        "|406|72\\.94|163\\.29|\n",
        "|407|74\\.97|166\\.95|\n",
        "|408|71\\.36|160\\.45|\n",
        "|409|62\\.04|143\\.67|\n",
        "|410|41\\.56|106\\.81|\n",
        "|411|59\\.81|139\\.66|\n",
        "|412|24\\.35|75\\.83|\n",
        "|413|21\\.56|70\\.81|\n",
        "|414|33\\.75|92\\.75|\n",
        "|415|3\\.71|38\\.68|\n",
        "|416|13\\.23|55\\.81|\n",
        "|417|-2\\.05|28\\.31|\n",
        "|418|11\\.01|51\\.82|\n",
        "|419|73\\.75|164\\.75|\n",
        "|420|55\\.61|132\\.1|\n",
        "|421|9\\.24|48\\.63|\n",
        "|422|-6\\.26|20\\.73|\n",
        "|423|62\\.5|144\\.5|\n",
        "|424|32\\.09|89\\.76|\n",
        "|425|1\\.19|34\\.14|\n",
        "|426|-7\\.99|17\\.62|\n",
        "|427|66\\.68|152\\.02|\n",
        "|428|41\\.75|107\\.15|\n",
        "|429|64\\.22|147\\.6|\n",
        "|430|54\\.12|129\\.42|\n",
        "|431|7\\.46|45\\.43|\n",
        "|432|35\\.26|95\\.47|\n",
        "|433|13\\.97|57\\.15|\n",
        "|434|22\\.68|72\\.82|\n",
        "|435|6\\.01|42\\.82|\n",
        "|436|64\\.22|147\\.6|\n",
        "|437|65\\.35|149\\.63|\n",
        "|438|54\\.39|129\\.9|\n",
        "|439|65\\.44|149\\.79|\n",
        "|440|34\\.72|94\\.5|\n",
        "|441|65\\.12|149\\.22|\n",
        "|442|-1\\.16|29\\.91|\n",
        "|443|46\\.07|114\\.93|\n",
        "|444|55\\.15|131\\.27|\n",
        "|445|-7\\.1|19\\.22|\n",
        "|446|28\\.59|83\\.46|\n",
        "|447|64\\.23|147\\.61|\n",
        "|448|47\\.18|116\\.92|\n",
        "|449|15\\.18|59\\.32|\n",
        "|450|16\\.65|61\\.97|\n",
        "|451|39\\.75|103\\.55|\n",
        "|452|44\\.4|111\\.92|\n",
        "|453|72\\.25|162\\.05|\n",
        "|454|7\\.33|45\\.19|\n",
        "|455|31\\.6|88\\.88|\n",
        "|456|45\\.19|113\\.34|\n",
        "|457|-3\\.3|26\\.06|\n",
        "|458|65\\.34|149\\.61|\n",
        "|459|7\\.74|45\\.93|\n",
        "|460|-0\\.35|31\\.37|\n",
        "|461|41\\.79|107\\.22|\n",
        "|462|16\\.12|61\\.02|\n",
        "|463|58\\.62|137\\.52|\n",
        "|464|58\\.38|137\\.08|\n",
        "|465|-5\\.38|22\\.32|\n",
        "|466|18\\.78|65\\.8|\n",
        "|467|25\\.69|78\\.24|\n",
        "|468|59\\.29|138\\.72|\n",
        "|469|5\\.19|41\\.34|\n",
        "|470|10\\.67|51\\.21|\n",
        "|471|-8\\.56|16\\.59|\n",
        "|472|72\\.57|162\\.63|\n",
        "|473|21\\.92|71\\.46|\n",
        "|474|25\\.38|77\\.68|\n",
        "|475|14\\.86|58\\.75|\n",
        "|476|66\\.97|152\\.55|\n",
        "|477|42\\.13|107\\.83|\n",
        "|478|29\\.41|84\\.94|\n",
        "|479|20\\.91|69\\.64|\n",
        "|480|15\\.91|60\\.64|\n",
        "|481|72\\.25|162\\.05|\n",
        "|482|63\\.54|146\\.37|\n",
        "|483|5\\.86|42\\.55|\n",
        "|484|35\\.53|95\\.95|\n",
        "|485|49\\.28|120\\.7|\n",
        "|486|40\\.26|104\\.47|\n",
        "|487|17\\.26|63\\.07|\n",
        "|488|-7\\.43|18\\.63|\n",
        "|489|16\\.02|60\\.84|\n",
        "|490|-9\\.51|14\\.88|\n",
        "|491|33\\.71|92\\.68|\n",
        "|492|44\\.98|112\\.96|\n",
        "|493|51\\.81|125\\.26|\n",
        "|494|64\\.46|148\\.03|\n",
        "|495|28\\.72|83\\.7|\n",
        "|496|-7\\.37|18\\.73|\n",
        "|497|71\\.81|161\\.26|\n",
        "|498|68\\.43|155\\.17|\n",
        "|499|56\\.13|133\\.03|"
      ],
      "metadata": {
        "id": "HLgHhfA_lSet"
      }
    },
    {
      "cell_type": "code",
      "source": [
        "celsius_2 = [61.4, 12.74, 8.24, 69.0, -2.87, 27.3, 54.38, -4.75, 27.43, 6.71, 69.31, 40.08, 35.38, 74.81, -0.19, 15.12, 21.22, 61.44, 27.59, 64.06, -2.73, 13.14, 42.21, -7.26, 57.68, 9.74, -10.41, 39.63, 12.39, 73.34, 65.89, -3.41, 15.33, 51.94, 2.43, -0.28, 58.77, -6.94, 73.87, 69.36, 40.72, 25.18, -0.67, 62.13, 63.21, 24.34, 33.32, 53.82, 70.14, 15.6, 62.31, 20.44, 0.76, 62.33, 4.32, 67.87, -8.06, 65.27, 46.3, -2.61, 25.53, 50.99, 46.53, 4.66, 11.31, 65.58, -4.28, 42.48, -6.55, -10.24, 16.11, 27.17, 48.74, -10.25, 14.28, -9.52, 50.62, 27.42, 11.28, 69.42, 66.82, 39.57, 70.24, 48.26, 18.43, 8.62, 43.5, 59.9, 36.49, 55.96, 73.29, 24.53, 2.91, 34.06, 12.27, 15.36, 45.27, 32.88, 58.56, 56.05, 37.76, 65.54, 59.09, 64.41, 46.08, 9.6, 48.33, 15.76, 65.71, -9.83, 27.01, -4.45, 48.18, 32.33, 19.79, -6.99, 63.82, 42.69, 57.46, 64.16, 19.57, 41.95, 8.95, 61.68, 9.38, 2.13, -8.38, 45.21, 29.13, 31.54, 35.99, 1.86, -8.5, -5.52, 31.1, -0.11, -3.12, 23.93, 35.56, 11.63, 27.52, 45.66, -5.22, -4.34, 64.24, 14.44, 38.19, 59.51, -5.42, 30.25, 62.97, 58.33, 16.53, 56.64, 11.03, 31.09, 33.37, 51.59, 33.65, 69.07, 61.67, 41.7, 51.5, 43.74, -5.92, -9.97, 10.05, -0.04, 73.17, 6.95, 53.11, 2.97, 58.97, -9.57, 8.1, 39.35, -1.87, 20.19, 43.4, 36.39, 51.4, 70.28, -9.51, 24.8, 46.06, 46.7, 32.62, 34.45, 62.6, 62.96, 50.69, 66.35, 59.4, 70.48, -9.45, 57.2, 18.3, 46.94, 15.35, 55.52, 73.93, 55.58, 55.14, 34.52, 31.95, -9.05, 60.29, 47.47, 54.1, 69.01, 1.16, 53.94, 46.62, 49.78, 43.86, 55.93, 8.27, 18.89, 6.75, 52.77, 17.79, 8.06, 56.17, 5.94, 34.71, 59.07, 62.79, 67.15, 15.17, -2.01, 3.04, -3.96, 46.88, 3.08, 16.79, 32.96, 35.48, 67.53, 8.13, 62.48, 8.13, 42.07, 19.45, 58.05, 62.19, 8.03, 62.16, 73.23, 48.1, 24.81, 6.98, -10.28, 60.72, 3.18, 10.71, -2.06, 4.39, 10.5, 26.72, -8.81, 41.99, 39.8, 62.24, 2.3, 23.39, 41.01, 44.79, 56.8, -6.61, 30.82, 25.27, 37.75, 15.37, 16.01, -0.08, 52.83, 73.65, 53.03, 1.05, 56.95, 39.81, 1.17, 25.03, -0.84, 55.0, -8.79, 45.22, 17.77, 74.76, 10.84, 13.77, -7.14, 68.94, 5.42, 68.89, 73.21, 69.86, 33.74, 6.27, 14.44, 61.22, 42.94, 32.83, 56.13, -6.11, 27.43, -4.93, 66.8, 13.9, 32.39, 14.64, 0.66, 11.09, 5.92, 37.86, 37.42, 73.31, 20.43, 74.53, 64.06, 66.76, -10.08, 8.61, 11.48, 3.44, 46.3, 48.73, 27.05, 21.29, 67.42, 35.17, 15.95, 57.01, -3.83, 12.82, 42.02, 5.18, 56.71, 21.44, 36.36, 7.49, 64.12, 16.86, -7.46, 18.38, 37.33, 19.86, 39.78, 51.54, 57.95, 12.77, 5.01, 46.49, -2.77, 38.05, 33.18, 48.07, 69.19, 38.39, -5.98, 30.94, 43.04, 56.18, 43.55, 72.96, 25.75, -10.2, 17.22, 61.13, 74.54, 48.85, 30.0, 44.73, 69.42, -4.13, 47.45, 14.14, 56.04, 11.04, 33.48, 9.03, -4.9, 43.32, 56.55, -4.38, 27.98, -0.49, -10.32, -4.85, 74.07, 61.14, 70.16, 47.46, 9.91, 34.52, 25.17, 12.51, 41.55, 1.05, 49.54, -7.67, 62.46, 63.81, 52.37, 48.98, 45.96, 72.94, 74.97, 71.36, 62.04, 41.56, 59.81, 24.35, 21.56, 33.75, 3.71, 13.23, -2.05, 11.01, 73.75, 55.61, 9.24, -6.26, 62.5, 32.09, 1.19, -7.99, 66.68, 41.75, 64.22, 54.12, 7.46, 35.26, 13.97, 22.68, 6.01, 64.22, 65.35, 54.39, 65.44, 34.72, 65.12, -1.16, 46.07, 55.15, -7.1, 28.59, 64.23, 47.18, 15.18, 16.65, 39.75, 44.4, 72.25, 7.33, 31.6, 45.19, -3.3, 65.34, 7.74, -0.35, 41.79, 16.12, 58.62, 58.38, -5.38, 18.78, 25.69, 59.29, 5.19, 10.67, -8.56, 72.57, 21.92, 25.38, 14.86, 66.97, 42.13, 29.41, 20.91, 15.91, 72.25, 63.54, 5.86, 35.53, 49.28, 40.26, 17.26, -7.43, 16.02, -9.51, 33.71, 44.98, 51.81, 64.46, 28.72, -7.37, 71.81, 68.43, 56.13]"
      ],
      "metadata": {
        "id": "hetDYKw0iPX1"
      },
      "execution_count": 26,
      "outputs": []
    },
    {
      "cell_type": "code",
      "source": [
        "fahrenheit_2 = [142.52, 54.93, 46.83, 156.2, 26.83, 81.14, 129.88, 23.45, 81.37, 44.08, 156.76, 104.14, 95.68, 166.66, 31.66, 59.22, 70.2, 142.59, 81.66, 147.31, 27.09, 55.65, 107.98, 18.93, 135.82, 49.53, 13.26, 103.33, 54.3, 164.01, 150.6, 25.86, 59.59, 125.49, 36.37, 31.5, 137.79, 19.51, 164.97, 156.85, 105.3, 77.32, 30.79, 143.83, 145.78, 75.81, 91.98, 128.88, 158.25, 60.08, 144.16, 68.79, 33.37, 144.19, 39.78, 154.17, 17.49, 149.49, 115.34, 27.3, 77.95, 123.78, 115.75, 40.39, 52.36, 150.04, 24.3, 108.46, 20.21, 13.57, 61.0, 80.91, 119.73, 13.55, 57.7, 14.86, 123.12, 81.36, 52.3, 156.96, 152.28, 103.23, 158.43, 118.87, 65.17, 47.52, 110.3, 139.82, 97.68, 132.73, 163.92, 76.15, 37.24, 93.31, 54.09, 59.65, 113.49, 91.18, 137.41, 132.89, 99.97, 149.97, 138.36, 147.94, 114.94, 49.28, 118.99, 60.37, 150.28, 14.31, 80.62, 23.99, 118.72, 90.19, 67.62, 19.42, 146.88, 108.84, 135.43, 147.49, 67.23, 107.51, 48.11, 143.02, 48.88, 35.83, 16.92, 113.38, 84.43, 88.77, 96.78, 35.35, 16.7, 22.06, 87.98, 31.8, 26.38, 75.07, 96.01, 52.93, 81.54, 114.19, 22.6, 24.19, 147.63, 57.99, 100.74, 139.12, 22.24, 86.45, 145.35, 136.99, 61.75, 133.95, 51.85, 87.96, 92.07, 124.86, 92.57, 156.33, 143.01, 107.06, 124.7, 110.73, 21.34, 14.05, 50.09, 31.93, 163.71, 44.51, 127.6, 37.35, 138.15, 14.77, 46.58, 102.83, 28.63, 68.34, 110.12, 97.5, 124.52, 158.5, 14.88, 76.64, 114.91, 116.06, 90.72, 94.01, 144.68, 145.33, 123.24, 151.43, 138.92, 158.86, 14.99, 134.96, 64.94, 116.49, 59.63, 131.94, 165.07, 132.04, 131.25, 94.14, 89.51, 15.71, 140.52, 117.45, 129.38, 156.22, 34.09, 129.09, 115.92, 121.6, 110.95, 132.67, 46.89, 66.0, 44.15, 126.99, 64.02, 46.51, 133.11, 42.69, 94.48, 138.33, 145.02, 152.87, 59.31, 28.38, 37.47, 24.87, 116.38, 37.54, 62.22, 91.33, 95.86, 153.55, 46.63, 144.46, 46.63, 107.73, 67.01, 136.49, 143.94, 46.45, 143.89, 163.81, 118.58, 76.66, 44.56, 13.5, 141.3, 37.72, 51.28, 28.29, 39.9, 50.9, 80.1, 16.14, 107.58, 103.64, 144.03, 36.14, 74.1, 105.82, 112.62, 134.24, 20.1, 87.48, 77.49, 99.95, 59.67, 60.82, 31.86, 127.09, 164.57, 127.45, 33.89, 134.51, 103.66, 34.11, 77.05, 30.49, 131.0, 16.18, 113.4, 63.99, 166.57, 51.51, 56.79, 19.15, 156.09, 41.76, 156.0, 163.78, 157.75, 92.73, 43.29, 57.99, 142.2, 109.29, 91.09, 133.03, 21.0, 81.37, 23.13, 152.24, 57.02, 90.3, 58.35, 33.19, 51.96, 42.66, 100.15, 99.36, 163.96, 68.77, 166.15, 147.31, 152.17, 13.86, 47.5, 52.66, 38.19, 115.34, 119.71, 80.69, 70.32, 153.36, 95.31, 60.71, 134.62, 25.11, 55.08, 107.64, 41.32, 134.08, 70.59, 97.45, 45.48, 147.42, 62.35, 18.57, 65.08, 99.19, 67.75, 103.6, 124.77, 136.31, 54.99, 41.02, 115.68, 27.01, 100.49, 91.72, 118.53, 156.54, 101.1, 21.24, 87.69, 109.47, 133.12, 110.39, 163.33, 78.35, 13.64, 63.0, 142.03, 166.17, 119.93, 86.0, 112.51, 156.96, 24.57, 117.41, 57.45, 132.87, 51.87, 92.26, 48.25, 23.18, 109.98, 133.79, 24.12, 82.36, 31.12, 13.42, 23.27, 165.33, 142.05, 158.29, 117.43, 49.84, 94.14, 77.31, 54.52, 106.79, 33.89, 121.17, 18.19, 144.43, 146.86, 126.27, 120.16, 114.73, 163.29, 166.95, 160.45, 143.67, 106.81, 139.66, 75.83, 70.81, 92.75, 38.68, 55.81, 28.31, 51.82, 164.75, 132.1, 48.63, 20.73, 144.5, 89.76, 34.14, 17.62, 152.02, 107.15, 147.6, 129.42, 45.43, 95.47, 57.15, 72.82, 42.82, 147.6, 149.63, 129.9, 149.79, 94.5, 149.22, 29.91, 114.93, 131.27, 19.22, 83.46, 147.61, 116.92, 59.32, 61.97, 103.55, 111.92, 162.05, 45.19, 88.88, 113.34, 26.06, 149.61, 45.93, 31.37, 107.22, 61.02, 137.52, 137.08, 22.32, 65.8, 78.24, 138.72, 41.34, 51.21, 16.59, 162.63, 71.46, 77.68, 58.75, 152.55, 107.83, 84.94, 69.64, 60.64, 162.05, 146.37, 42.55, 95.95, 120.7, 104.47, 63.07, 18.63, 60.84, 14.88, 92.68, 112.96, 125.26, 148.03, 83.7, 18.73, 161.26, 155.17, 133.03]"
      ],
      "metadata": {
        "id": "hic_ntWyidDf"
      },
      "execution_count": 27,
      "outputs": []
    },
    {
      "cell_type": "code",
      "source": [
        "celsius_in = np.array(celsius_2,  dtype=float)\n",
        "fahrenheit_out = np.array(fahrenheit_2,  dtype=float)"
      ],
      "metadata": {
        "id": "bCmU4gqgEBYv"
      },
      "execution_count": 22,
      "outputs": []
    },
    {
      "cell_type": "code",
      "source": [
        "%%time\n",
        "\n",
        "\n",
        "\n",
        "l0 = tf.keras.layers.Dense(units=1, input_shape=[1])\n",
        "\n",
        "model = tf.keras.Sequential([l0])\n",
        "\n",
        "model.compile(loss='mean_squared_error',\n",
        "              optimizer=tf.keras.optimizers.Adam(0.1))\n",
        "\n",
        "\n",
        "history = model.fit(celsius_in, fahrenheit_out, epochs=500, verbose=False)\n",
        "print(\"Finished training the model\")\n",
        "\n",
        "\n",
        "print(\"These are the layer variables, weight:\",l0.get_weights()[0],\", bias:\",l0.get_weights()[1])"
      ],
      "metadata": {
        "colab": {
          "base_uri": "https://localhost:8080/"
        },
        "id": "gQYHm2drEgmQ",
        "outputId": "e430136a-5889-4ae8-c2d5-7de757b20e1b"
      },
      "execution_count": 23,
      "outputs": [
        {
          "output_type": "stream",
          "name": "stdout",
          "text": [
            "Finished training the model\n",
            "These are the layer variables, weight: [[1.8001322]] , bias: [31.999725]\n",
            "CPU times: user 11 s, sys: 593 ms, total: 11.6 s\n",
            "Wall time: 10.7 s\n"
          ]
        }
      ]
    },
    {
      "cell_type": "code",
      "source": [
        "print(\"For 100.0 Celsius: \",model.predict([100.0]))"
      ],
      "metadata": {
        "colab": {
          "base_uri": "https://localhost:8080/"
        },
        "id": "iufTOVnfUgx4",
        "outputId": "63794223-6b50-4597-ad68-ead511741caa"
      },
      "execution_count": 24,
      "outputs": [
        {
          "output_type": "stream",
          "name": "stdout",
          "text": [
            "1/1 [==============================] - 0s 85ms/step\n",
            "For 100.0 Celsius:  [[212.01294]]\n"
          ]
        }
      ]
    },
    {
      "cell_type": "code",
      "source": [
        "cel_to_far(100.0)"
      ],
      "metadata": {
        "colab": {
          "base_uri": "https://localhost:8080/"
        },
        "id": "ktaitN-_0UPm",
        "outputId": "a1516999-420e-4499-9d37-8e022923815a"
      },
      "execution_count": 25,
      "outputs": [
        {
          "output_type": "execute_result",
          "data": {
            "text/plain": [
              "212.0"
            ]
          },
          "metadata": {},
          "execution_count": 25
        }
      ]
    },
    {
      "cell_type": "markdown",
      "source": [
        "\n",
        "\n",
        "---\n",
        "\n",
        "\n",
        "\n",
        "---\n",
        "\n"
      ],
      "metadata": {
        "id": "G-zu0dpZ1Bix"
      }
    },
    {
      "cell_type": "code",
      "source": [
        "%%time\n",
        "l0 = tf.keras.layers.Dense(units=3, input_shape=[1])\n",
        "l1 = tf.keras.layers.Dense(units=2)\n",
        "l2 = tf.keras.layers.Dense(units=1)\n",
        "\n",
        "model = tf.keras.Sequential([l0, l1, l2])\n",
        "\n",
        "model.compile(loss='mean_squared_error', optimizer=tf.keras.optimizers.Adam(0.1))\n",
        "\n",
        "model.fit(celsius_in, fahrenheit_out, epochs=500, verbose=False)\n",
        "print(\"Finished training the model\")\n",
        "\n"
      ],
      "metadata": {
        "colab": {
          "base_uri": "https://localhost:8080/"
        },
        "id": "v2s2jqWz1CYO",
        "outputId": "9314160a-6563-4b09-ae5d-d89dfb5c45d4"
      },
      "execution_count": null,
      "outputs": [
        {
          "output_type": "stream",
          "name": "stdout",
          "text": [
            "Finished training the model\n",
            "CPU times: user 12.9 s, sys: 729 ms, total: 13.7 s\n",
            "Wall time: 21.1 s\n"
          ]
        }
      ]
    },
    {
      "cell_type": "code",
      "source": [
        "print(model.predict([100.0]))"
      ],
      "metadata": {
        "colab": {
          "base_uri": "https://localhost:8080/"
        },
        "id": "5vfalaWF1HfT",
        "outputId": "857821cb-8009-4172-bd78-bfb69f0c6556"
      },
      "execution_count": null,
      "outputs": [
        {
          "output_type": "stream",
          "name": "stdout",
          "text": [
            "1/1 [==============================] - 0s 80ms/step\n",
            "[[211.59912]]\n"
          ]
        }
      ]
    },
    {
      "cell_type": "code",
      "source": [
        "cel_to_far(100.0)"
      ],
      "metadata": {
        "colab": {
          "base_uri": "https://localhost:8080/"
        },
        "id": "FvrVaqee1Jkb",
        "outputId": "ddd90209-b958-4a7d-b53b-a9d42cee674a"
      },
      "execution_count": null,
      "outputs": [
        {
          "output_type": "execute_result",
          "data": {
            "text/plain": [
              "212.0"
            ]
          },
          "metadata": {},
          "execution_count": 115
        }
      ]
    },
    {
      "cell_type": "code",
      "source": [
        "print(\"These are the l0 variables, weight:\",l0.get_weights()[0],\", bias:\",l0.get_weights()[1])"
      ],
      "metadata": {
        "colab": {
          "base_uri": "https://localhost:8080/"
        },
        "id": "yA-B6QE11KCW",
        "outputId": "57a4866d-f80e-47ad-a507-3d3c29ce8fce"
      },
      "execution_count": null,
      "outputs": [
        {
          "output_type": "stream",
          "name": "stdout",
          "text": [
            "These are the l0 variables, weight: [[-0.8898999  -0.02850729 -0.05343429]] , bias: [-7.4086623  1.0495586  3.546448 ]\n"
          ]
        }
      ]
    },
    {
      "cell_type": "code",
      "source": [
        "print(\"These are the l1 variables, weight:\",l1.get_weights()[0],\", bias:\",l1.get_weights()[1])"
      ],
      "metadata": {
        "colab": {
          "base_uri": "https://localhost:8080/"
        },
        "id": "LX-tcAe01iA1",
        "outputId": "a806d2c8-0a59-4dad-dce0-79ce6bb03dba"
      },
      "execution_count": null,
      "outputs": [
        {
          "output_type": "stream",
          "name": "stdout",
          "text": [
            "These are the l1 variables, weight: [[-1.6312351   0.05369047]\n",
            " [-0.08235186 -0.35292706]\n",
            " [ 0.24003354  1.0649956 ]] , bias: [ 5.825126 -8.18872 ]\n"
          ]
        }
      ]
    },
    {
      "cell_type": "code",
      "source": [
        "print(\"These are the l2 variables, weight:\",l2.get_weights()[0],\", bias:\",l2.get_weights()[1])"
      ],
      "metadata": {
        "colab": {
          "base_uri": "https://localhost:8080/"
        },
        "id": "mLTZmO_H1is8",
        "outputId": "4a5161f5-909a-4ee6-d952-ce73d6d67f59"
      },
      "execution_count": null,
      "outputs": [
        {
          "output_type": "stream",
          "name": "stdout",
          "text": [
            "These are the l2 variables, weight: [[ 1.2272497 ]\n",
            " [-0.29165068]] , bias: [7.543431]\n"
          ]
        }
      ]
    }
  ]
}